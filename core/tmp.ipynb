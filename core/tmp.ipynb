{
 "cells": [
  {
   "cell_type": "code",
   "execution_count": 2,
   "metadata": {},
   "outputs": [],
   "source": [
    "import matplotlib\n",
    "%matplotlib inline\n",
    "import numpy as np\n",
    "import matplotlib.pyplot as plt"
   ]
  },
  {
   "cell_type": "code",
   "execution_count": null,
   "metadata": {},
   "outputs": [],
   "source": [
    "# f1,f2=interp_fs()\n",
    "# plot_likelihood(f1, f2, 1)\n",
    "table = np.load('../res/ll_I_E5.npy')\n",
    "lks = [[-e[0] for e in row] for row in table]\n",
    "for row in lks:\n",
    "    print(row)\n",
    "Is = [[e[1] for e in row] for row in table ]\n",
    "Es = [ [e[2] for e in row] for row in table]\n",
    "logsigma_range = np.linspace(-1, 5, 10)\n",
    "logell_range = np.linspace(-1, 5, 10)\n",
    "X, Y = np.meshgrid(logell_range, logsigma_range)\n",
    "\n",
    "plt.figure()\n",
    "CS = plt.contour(X, Y, lks,20)\n",
    "plt.show()\n",
    "plt.figure()\n",
    "CS = plt.contour(X, Y, Is)\n",
    "plt.show()\n",
    "plt.figure()\n",
    "CS = plt.contour(X, Y, Es)\n",
    "plt.show()"
   ]
  },
  {
   "cell_type": "code",
   "execution_count": null,
   "metadata": {},
   "outputs": [],
   "source": []
  }
 ],
 "metadata": {
  "kernelspec": {
   "display_name": "Python [conda env:anaconda3]",
   "language": "python",
   "name": "conda-env-anaconda3-py"
  },
  "language_info": {
   "codemirror_mode": {
    "name": "ipython",
    "version": 3
   },
   "file_extension": ".py",
   "mimetype": "text/x-python",
   "name": "python",
   "nbconvert_exporter": "python",
   "pygments_lexer": "ipython3",
   "version": "3.6.5"
  }
 },
 "nbformat": 4,
 "nbformat_minor": 2
}
